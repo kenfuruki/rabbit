{
 "cells": [
  {
   "cell_type": "markdown",
   "source": [
    "# リッジ回帰\r\n",
    "## 参考著書：機械学習のエッセンス"
   ],
   "metadata": {}
  },
  {
   "cell_type": "markdown",
   "source": [
    "$$\r\n",
    "w \\quad = \\quad {(\\tilde{X}^T \\tilde{X}+\\lambda I)}^{-1} \\tilde{X}^T \\boldsymbol{y}\r\n",
    "$$"
   ],
   "metadata": {}
  },
  {
   "cell_type": "code",
   "execution_count": 1,
   "source": [
    "# class\r\n",
    "import numpy as np\r\n",
    "from scipy import linalg\r\n",
    "\r\n",
    "class RidgeRegression:\r\n",
    "    def __init__(self,lambda_=1.):\r\n",
    "        self.lambda_ = lambda_\r\n",
    "        self.w_ = None\r\n",
    "    \r\n",
    "    def fit(self,X,y):\r\n",
    "        Xtil = np.c_[np.ones(X.shape[0]),X] #バイパス項追加\r\n",
    "        c = np.eye(Xtil.shape[1])  # 単位行列の生成　説明変数の数\r\n",
    "        A = np.dot(Xtil.T,Xtil) + self.lambda_ * c\r\n",
    "        b = np.dot(Xtil.T,y)\r\n",
    "        self.w_ = linalg.solve(A,b)\r\n",
    "    \r\n",
    "    def predict(self,X) :\r\n",
    "        Xtil = np.c_[np.ones(X.shape[0]),X]\r\n",
    "        return np.dot(Xtil,self.w_)"
   ],
   "outputs": [
    {
     "output_type": "stream",
     "name": "stderr",
     "text": [
      "C:\\Users\\furuki_all\\Anaconda3\\lib\\importlib\\_bootstrap.py:219: RuntimeWarning: numpy.ufunc size changed, may indicate binary incompatibility. Expected 192 from C header, got 216 from PyObject\n",
      "  return f(*args, **kwds)\n"
     ]
    }
   ],
   "metadata": {}
  },
  {
   "cell_type": "code",
   "execution_count": 10,
   "source": [
    "# データ入力\r\n",
    "import matplotlib.pyplot as plt\r\n",
    "x = np.array([1,2,4,6,7,9,13])\r\n",
    "y = np.array([1,3,3,5,4,10,12])"
   ],
   "outputs": [],
   "metadata": {}
  },
  {
   "cell_type": "code",
   "execution_count": 15,
   "source": [
    "# 学習\r\n",
    "model = RidgeRegression(10.)\r\n",
    "model.fit(x,y)\r\n",
    "b,a = model.w_"
   ],
   "outputs": [],
   "metadata": {}
  },
  {
   "cell_type": "code",
   "execution_count": 16,
   "source": [
    "# 可視化\r\n",
    "plt.scatter(x,y,color='k')\r\n",
    "xmax = x.max()\r\n",
    "ymax = a*xmax + b\r\n",
    "plt.plot([0,xmax],[b,ymax],color='red')\r\n",
    "plt.show()"
   ],
   "outputs": [
    {
     "output_type": "display_data",
     "data": {
      "image/png": "[encoded data removed]",
      "text/plain": [
       "<Figure size 432x288 with 1 Axes>"
      ]
     },
     "metadata": {
      "needs_background": "light"
     }
    }
   ],
   "metadata": {}
  },
  {
   "cell_type": "code",
   "execution_count": null,
   "source": [],
   "outputs": [],
   "metadata": {}
  }
 ],
 "metadata": {
  "orig_nbformat": 4,
  "language_info": {
   "name": "python",
   "version": "3.7.6",
   "mimetype": "text/x-python",
   "codemirror_mode": {
    "name": "ipython",
    "version": 3
   },
   "pygments_lexer": "ipython3",
   "nbconvert_exporter": "python",
   "file_extension": ".py"
  },
  "kernelspec": {
   "name": "python3",
   "display_name": "Python 3.7.6 64-bit ('base': conda)"
  },
  "interpreter": {
   "hash": "74bebb5d7dc79794b1b1a68c6375a247bfa8653be305cd8e89da773ec4c6de20"
  }
 },
 "nbformat": 4,
 "nbformat_minor": 2
}