{
 "cells": [
  {
   "cell_type": "markdown",
   "source": [
    "## ロジスティック回帰\r\n",
    "## 参考　https://enjoyworks.jp/tech-blog/3087"
   ],
   "metadata": {}
  },
  {
   "cell_type": "code",
   "execution_count": 1,
   "source": [
    "import numpy as np\r\n",
    "import matplotlib.pyplot as plt\r\n",
    "import seaborn as sns\r\n",
    "from sklearn.datasets import load_iris\r\n",
    "import pandas as pd"
   ],
   "outputs": [],
   "metadata": {}
  },
  {
   "cell_type": "code",
   "execution_count": 2,
   "source": [
    "# アイリスデータを使用\r\n",
    "iris_dataset = load_iris()\r\n",
    "df_iris = pd.DataFrame(data=iris_dataset.data, columns=iris_dataset.feature_names)\r\n",
    "df_iris.head()"
   ],
   "outputs": [
    {
     "output_type": "execute_result",
     "data": {
      "text/html": [
       "<div>\n",
       "<style scoped>\n",
       "    .dataframe tbody tr th:only-of-type {\n",
       "        vertical-align: middle;\n",
       "    }\n",
       "\n",
       "    .dataframe tbody tr th {\n",
       "        vertical-align: top;\n",
       "    }\n",
       "\n",
       "    .dataframe thead th {\n",
       "        text-align: right;\n",
       "    }\n",
       "</style>\n",
       "<table border=\"1\" class=\"dataframe\">\n",
       "  <thead>\n",
       "    <tr style=\"text-align: right;\">\n",
       "      <th></th>\n",
       "      <th>sepal length (cm)</th>\n",
       "      <th>sepal width (cm)</th>\n",
       "      <th>petal length (cm)</th>\n",
       "      <th>petal width (cm)</th>\n",
       "    </tr>\n",
       "  </thead>\n",
       "  <tbody>\n",
       "    <tr>\n",
       "      <th>0</th>\n",
       "      <td>5.1</td>\n",
       "      <td>3.5</td>\n",
       "      <td>1.4</td>\n",
       "      <td>0.2</td>\n",
       "    </tr>\n",
       "    <tr>\n",
       "      <th>1</th>\n",
       "      <td>4.9</td>\n",
       "      <td>3.0</td>\n",
       "      <td>1.4</td>\n",
       "      <td>0.2</td>\n",
       "    </tr>\n",
       "    <tr>\n",
       "      <th>2</th>\n",
       "      <td>4.7</td>\n",
       "      <td>3.2</td>\n",
       "      <td>1.3</td>\n",
       "      <td>0.2</td>\n",
       "    </tr>\n",
       "    <tr>\n",
       "      <th>3</th>\n",
       "      <td>4.6</td>\n",
       "      <td>3.1</td>\n",
       "      <td>1.5</td>\n",
       "      <td>0.2</td>\n",
       "    </tr>\n",
       "    <tr>\n",
       "      <th>4</th>\n",
       "      <td>5.0</td>\n",
       "      <td>3.6</td>\n",
       "      <td>1.4</td>\n",
       "      <td>0.2</td>\n",
       "    </tr>\n",
       "  </tbody>\n",
       "</table>\n",
       "</div>"
      ],
      "text/plain": [
       "   sepal length (cm)  sepal width (cm)  petal length (cm)  petal width (cm)\n",
       "0                5.1               3.5                1.4               0.2\n",
       "1                4.9               3.0                1.4               0.2\n",
       "2                4.7               3.2                1.3               0.2\n",
       "3                4.6               3.1                1.5               0.2\n",
       "4                5.0               3.6                1.4               0.2"
      ]
     },
     "metadata": {},
     "execution_count": 2
    }
   ],
   "metadata": {}
  },
  {
   "cell_type": "code",
   "execution_count": 3,
   "source": [
    "# 説明変数はsepal（がく片の長さと広さ）の２つを使用\r\n",
    "X = iris_dataset.data[:,:2]\r\n",
    "X[:4,:]"
   ],
   "outputs": [
    {
     "output_type": "execute_result",
     "data": {
      "text/plain": [
       "array([[5.1, 3.5],\n",
       "       [4.9, 3. ],\n",
       "       [4.7, 3.2],\n",
       "       [4.6, 3.1]])"
      ]
     },
     "metadata": {},
     "execution_count": 3
    }
   ],
   "metadata": {}
  },
  {
   "cell_type": "code",
   "execution_count": 4,
   "source": [
    "# 目的変数はターゲットに格納されており３種。これを「０」と「１か２」の２値分類にする。\r\n",
    "iris_dataset.target"
   ],
   "outputs": [
    {
     "output_type": "execute_result",
     "data": {
      "text/plain": [
       "array([0, 0, 0, 0, 0, 0, 0, 0, 0, 0, 0, 0, 0, 0, 0, 0, 0, 0, 0, 0, 0, 0,\n",
       "       0, 0, 0, 0, 0, 0, 0, 0, 0, 0, 0, 0, 0, 0, 0, 0, 0, 0, 0, 0, 0, 0,\n",
       "       0, 0, 0, 0, 0, 0, 1, 1, 1, 1, 1, 1, 1, 1, 1, 1, 1, 1, 1, 1, 1, 1,\n",
       "       1, 1, 1, 1, 1, 1, 1, 1, 1, 1, 1, 1, 1, 1, 1, 1, 1, 1, 1, 1, 1, 1,\n",
       "       1, 1, 1, 1, 1, 1, 1, 1, 1, 1, 1, 1, 2, 2, 2, 2, 2, 2, 2, 2, 2, 2,\n",
       "       2, 2, 2, 2, 2, 2, 2, 2, 2, 2, 2, 2, 2, 2, 2, 2, 2, 2, 2, 2, 2, 2,\n",
       "       2, 2, 2, 2, 2, 2, 2, 2, 2, 2, 2, 2, 2, 2, 2, 2, 2, 2])"
      ]
     },
     "metadata": {},
     "execution_count": 4
    }
   ],
   "metadata": {}
  },
  {
   "cell_type": "code",
   "execution_count": 5,
   "source": [
    "# ２値分類問題にするために、ターゲットを「０⇒０」と「１か２⇒１」の２つに変換\r\n",
    "# 偽はゼロになるため、１をかけるとゼロになる。１か２は、真にあたるので１をかけると１になる。\r\n",
    "y = (iris_dataset.target != 0) *1\r\n",
    "y"
   ],
   "outputs": [
    {
     "output_type": "execute_result",
     "data": {
      "text/plain": [
       "array([0, 0, 0, 0, 0, 0, 0, 0, 0, 0, 0, 0, 0, 0, 0, 0, 0, 0, 0, 0, 0, 0,\n",
       "       0, 0, 0, 0, 0, 0, 0, 0, 0, 0, 0, 0, 0, 0, 0, 0, 0, 0, 0, 0, 0, 0,\n",
       "       0, 0, 0, 0, 0, 0, 1, 1, 1, 1, 1, 1, 1, 1, 1, 1, 1, 1, 1, 1, 1, 1,\n",
       "       1, 1, 1, 1, 1, 1, 1, 1, 1, 1, 1, 1, 1, 1, 1, 1, 1, 1, 1, 1, 1, 1,\n",
       "       1, 1, 1, 1, 1, 1, 1, 1, 1, 1, 1, 1, 1, 1, 1, 1, 1, 1, 1, 1, 1, 1,\n",
       "       1, 1, 1, 1, 1, 1, 1, 1, 1, 1, 1, 1, 1, 1, 1, 1, 1, 1, 1, 1, 1, 1,\n",
       "       1, 1, 1, 1, 1, 1, 1, 1, 1, 1, 1, 1, 1, 1, 1, 1, 1, 1])"
      ]
     },
     "metadata": {},
     "execution_count": 5
    }
   ],
   "metadata": {}
  },
  {
   "cell_type": "code",
   "execution_count": 6,
   "source": [
    "# データを可視化\r\n",
    "plt.figure(figsize=(10,6))\r\n",
    "plt.scatter(X[y==0][:,0],X[y==0][:,1], c='blue' ,label ='target=0')\r\n",
    "plt.scatter(X[y==1][:,0],X[y==1][:,1], c='red'  ,label ='target=1 or 2')\r\n",
    "plt.legend()\r\n",
    "plt.show()"
   ],
   "outputs": [
    {
     "output_type": "display_data",
     "data": {
      "image/png": "[encoded data removed]",
      "text/plain": [
       "<Figure size 720x432 with 1 Axes>"
      ]
     },
     "metadata": {
      "needs_background": "light"
     }
    }
   ],
   "metadata": {}
  },
  {
   "cell_type": "code",
   "execution_count": 7,
   "source": [
    "# ロジスティック回帰を行う\r\n",
    "# 学習率：lr, \r\n",
    "# イテレーション：num_iter,　\r\n",
    "# 切片項を持たせるか否か： fit_intercept\r\n",
    "# 処理中に誤差の経過を出力するか否か： verbose"
   ],
   "outputs": [],
   "metadata": {}
  },
  {
   "cell_type": "markdown",
   "source": [
    "$$\r\n",
    "予測値　\\hat{P_i} \\quad = \\quad h =\\quad \\sigma(\\theta_0 + \\theta_1 x_{i,1} + \\theta_2 x_{i,2}+...+\\theta_m x_{i,m}) = \\sigma\\quad(\\boldsymbol{\\theta}^T\\quad\\boldsymbol{\\tilde{x}^T})\\\\\r\n",
    "損失関数　E \\quad = \\quad - \\sum \\bigl({y_i\\log h + (1-y)\\log (1-h) \\bigr)} $$"
   ],
   "metadata": {}
  },
  {
   "cell_type": "code",
   "execution_count": 8,
   "source": [
    "intercept = np.ones((X.shape[0],1))\r\n",
    "a = np.concatenate((intercept,X),axis=1)\r\n",
    "y.size"
   ],
   "outputs": [
    {
     "output_type": "execute_result",
     "data": {
      "text/plain": [
       "150"
      ]
     },
     "metadata": {},
     "execution_count": 8
    }
   ],
   "metadata": {}
  },
  {
   "cell_type": "code",
   "execution_count": 9,
   "source": [
    "class LogisticRegression:\r\n",
    "    def __init__(self, lr=0.01, num_iter=100000, fit_intercept=True, verbose=False):\r\n",
    "        self.lr = lr\r\n",
    "        self.num_iter = num_iter\r\n",
    "        self.fit_intercept = fit_intercept\r\n",
    "        self.verbose = verbose\r\n",
    "    \r\n",
    "    # 切片を追加する。1の縦ベクトルを追加。よって特徴量は３つに。\r\n",
    "    def __add_intercept(self, X):\r\n",
    "        intercept = np.ones((X.shape[0], 1))\r\n",
    "        return np.concatenate((intercept, X), axis=1)\r\n",
    "    \r\n",
    "    def __sigmoid(self, z):\r\n",
    "        return 1 / (1 + np.exp(-z))\r\n",
    "    \r\n",
    "    def __loss(self, h, y):\r\n",
    "        return (-y * np.log(h) - (1 - y) * np.log(1 - h)).mean()\r\n",
    "    \r\n",
    "    def fit(self, X, y):\r\n",
    "        if self.fit_intercept:\r\n",
    "            X = self.__add_intercept(X)\r\n",
    "        \r\n",
    "        # weights initialization\r\n",
    "        self.theta = np.zeros(X.shape[1])\r\n",
    "        \r\n",
    "        for i in range(self.num_iter):\r\n",
    "            z = np.dot(X, self.theta)\r\n",
    "            h = self.__sigmoid(z)\r\n",
    "            gradient = np.dot(X.T, (h - y)) / y.size\r\n",
    "            self.theta -= self.lr * gradient\r\n",
    "            \r\n",
    "            z = np.dot(X, self.theta)\r\n",
    "            h = self.__sigmoid(z)\r\n",
    "            loss = self.__loss(h, y)\r\n",
    "\r\n",
    "            #1万回ごとに誤差を出力    \r\n",
    "            if(self.verbose ==True and i % 10000 == 0):\r\n",
    "                print(f'loss: {loss} \\t')\r\n",
    "    \r\n",
    "    \r\n",
    "    def predict_prob(self, X):\r\n",
    "        if self.fit_intercept:\r\n",
    "            X = self.__add_intercept(X)\r\n",
    "    \r\n",
    "        return self.__sigmoid(np.dot(X, self.theta))\r\n",
    "    \r\n",
    "    def predict(self, X):\r\n",
    "        return self.predict_prob(X).round()"
   ],
   "outputs": [],
   "metadata": {}
  },
  {
   "cell_type": "code",
   "execution_count": 10,
   "source": [
    "model = LogisticRegression(lr=0.1, num_iter=300000)\r\n",
    "%time model.fit(X, y)\r\n",
    "\r\n",
    "preds = model.predict(X)\r\n",
    "(preds == y).mean()"
   ],
   "outputs": [
    {
     "output_type": "stream",
     "name": "stdout",
     "text": [
      "Wall time: 1min 3s\n"
     ]
    },
    {
     "output_type": "execute_result",
     "data": {
      "text/plain": [
       "1.0"
      ]
     },
     "metadata": {},
     "execution_count": 10
    }
   ],
   "metadata": {}
  },
  {
   "cell_type": "code",
   "execution_count": 11,
   "source": [
    "plt.figure(figsize=(10, 6))\r\n",
    "plt.scatter(X[y == 0][:, 0], X[y == 0][:, 1], color='b', label='0')\r\n",
    "plt.scatter(X[y == 1][:, 0], X[y == 1][:, 1], color='r', label='1')\r\n",
    "plt.legend()\r\n",
    "x1_min, x1_max = X[:,0].min(), X[:,0].max(),\r\n",
    "x2_min, x2_max = X[:,1].min(), X[:,1].max(),\r\n",
    "xx1, xx2 = np.meshgrid(np.linspace(x1_min, x1_max), np.linspace(x2_min, x2_max))\r\n",
    "grid = np.c_[xx1.ravel(), xx2.ravel()]\r\n",
    "probs = model.predict_prob(grid).reshape(xx1.shape)\r\n",
    "plt.contour(xx1, xx2, probs, [0.5], linewidths=1, colors='black');"
   ],
   "outputs": [
    {
     "output_type": "display_data",
     "data": {
      "image/png": "[encoded data removed]",
      "text/plain": [
       "<Figure size 720x432 with 1 Axes>"
      ]
     },
     "metadata": {
      "needs_background": "light"
     }
    }
   ],
   "metadata": {}
  },
  {
   "cell_type": "code",
   "execution_count": 13,
   "source": [
    "model.theta"
   ],
   "outputs": [
    {
     "output_type": "execute_result",
     "data": {
      "text/plain": [
       "array([-25.89066442,  12.523156  , -13.40150447])"
      ]
     },
     "metadata": {},
     "execution_count": 13
    }
   ],
   "metadata": {}
  }
 ],
 "metadata": {
  "orig_nbformat": 4,
  "language_info": {
   "name": "python",
   "version": "3.7.6",
   "mimetype": "text/x-python",
   "codemirror_mode": {
    "name": "ipython",
    "version": 3
   },
   "pygments_lexer": "ipython3",
   "nbconvert_exporter": "python",
   "file_extension": ".py"
  },
  "kernelspec": {
   "name": "python3",
   "display_name": "Python 3.7.6 64-bit ('base': conda)"
  },
  "interpreter": {
   "hash": "74bebb5d7dc79794b1b1a68c6375a247bfa8653be305cd8e89da773ec4c6de20"
  }
 },
 "nbformat": 4,
 "nbformat_minor": 2
}