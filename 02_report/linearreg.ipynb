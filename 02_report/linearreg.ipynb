{
 "cells": [
  {
   "cell_type": "code",
   "execution_count": null,
   "source": [
    "import numpy as np\r\n",
    "from scipy import linalg\r\n",
    "\r\n",
    "class LinearRegression:\r\n",
    "    def __init__(self) :\r\n",
    "        self.w_ = None\r\n",
    "    \r\n",
    "    def fit(self, X, y):\r\n",
    "        Xtil = np.c_[np.ones((X.shape[0])),X] #切片項追加\r\n",
    "        A = np.dot(Xtil.T,Xtil)\r\n",
    "        b = np.dot(Xtil.T, y)\r\n",
    "        self.w_ = linalg.solve(A,b)\r\n",
    "    \r\n",
    "    def predict(self,X):\r\n",
    "        if X.ndim == 1 :\r\n",
    "            X = X.reshape(1,-1)  #1行○列\r\n",
    "        Xtill = np.c_[np.ones(X.shape[0],X)]\r\n",
    "        return np.dot(Xtill,self.w_)   "
   ],
   "outputs": [],
   "metadata": {}
  }
 ],
 "metadata": {
  "orig_nbformat": 4,
  "language_info": {
   "name": "python",
   "version": "3.7.6"
  },
  "kernelspec": {
   "name": "python3",
   "display_name": "Python 3.7.6 64-bit ('base': conda)"
  },
  "interpreter": {
   "hash": "74bebb5d7dc79794b1b1a68c6375a247bfa8653be305cd8e89da773ec4c6de20"
  }
 },
 "nbformat": 4,
 "nbformat_minor": 2
}