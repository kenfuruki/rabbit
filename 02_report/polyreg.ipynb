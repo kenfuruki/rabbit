{
 "cells": [
  {
   "cell_type": "code",
   "execution_count": 1,
   "source": [
    "import linearreg\r\n",
    "import numpy as np\r\n",
    "import matplotlib.pyplot as plt"
   ],
   "outputs": [],
   "metadata": {}
  },
  {
   "cell_type": "code",
   "execution_count": 2,
   "source": [
    "class PolynomialRegression:\r\n",
    "    def __init__(self,degree):\r\n",
    "        self.degree = degree\r\n",
    "        self.w_ = None\r\n",
    "    \r\n",
    "    def fit(self,x,y):\r\n",
    "        x_pow = []\r\n",
    "        XX = x.reshape(len(x),1)\r\n",
    "        for i in range(1,self.degree + 1):\r\n",
    "            x_pow.append(XX ** i)\r\n",
    "        mat = np.concatenate(x_pow,axis=1)\r\n",
    "        linreg = linearreg.LinearRegression()\r\n",
    "        linreg.fit(mat,y)\r\n",
    "        self.w_ = linreg.w_\r\n",
    "    \r\n",
    "    def predict(self,x):\r\n",
    "        r = 0\r\n",
    "        for i in range(self.degree + 1):\r\n",
    "            r += x**i *self.w_[i]\r\n",
    "        return r\r\n"
   ],
   "outputs": [],
   "metadata": {}
  },
  {
   "cell_type": "code",
   "execution_count": 3,
   "source": [
    "# データ生成\r\n",
    "np.random.seed(0)\r\n",
    "n = 8\r\n",
    "def f(x):\r\n",
    "    return 1 + 2*x\r\n",
    "x = np.random.random(n)*10\r\n",
    "y = f(x) + np.random.randn(n)"
   ],
   "outputs": [],
   "metadata": {}
  },
  {
   "cell_type": "code",
   "execution_count": 4,
   "source": [
    "# 多項式回帰\r\n",
    "model = PolynomialRegression(10)\r\n",
    "model.fit(x,y)"
   ],
   "outputs": [
    {
     "output_type": "stream",
     "name": "stderr",
     "text": [
      "c:\\Users\\furuki_all\\python_env\\env_conda_base\\linearreg.py:15: LinAlgWarning: Ill-conditioned matrix (rcond=6.67351e-32): result may not be accurate.\n",
      "  self.w_ = linalg.solve(A,b)\n"
     ]
    }
   ],
   "metadata": {}
  },
  {
   "cell_type": "code",
   "execution_count": 6,
   "source": [
    "# 可視化\r\n",
    "plt.scatter(x,y,color='k')\r\n",
    "plt.ylim([y.min()-1,y.max()+1])\r\n",
    "xx = np.linspace(x.min(),x.max(),300)\r\n",
    "yy = np.array([model.predict(u) for u in xx])\r\n",
    "plt.plot(xx,yy,color='blue')\r\n",
    "x1 = x.min()-1\r\n",
    "x2 = x.max()+1\r\n",
    "plt.plot([x1,x2],[f(x1),f(x2)],color='red',ls='dashed')"
   ],
   "outputs": [
    {
     "output_type": "execute_result",
     "data": {
      "text/plain": [
       "[<matplotlib.lines.Line2D at 0xc975b33e88>]"
      ]
     },
     "metadata": {},
     "execution_count": 6
    },
    {
     "output_type": "display_data",
     "data": {
      "image/png": "[encoded data removed]",
      "text/plain": [
       "<Figure size 432x288 with 1 Axes>"
      ]
     },
     "metadata": {
      "needs_background": "light"
     }
    }
   ],
   "metadata": {}
  },
  {
   "cell_type": "code",
   "execution_count": null,
   "source": [],
   "outputs": [],
   "metadata": {}
  }
 ],
 "metadata": {
  "orig_nbformat": 4,
  "language_info": {
   "name": "python",
   "version": "3.7.6",
   "mimetype": "text/x-python",
   "codemirror_mode": {
    "name": "ipython",
    "version": 3
   },
   "pygments_lexer": "ipython3",
   "nbconvert_exporter": "python",
   "file_extension": ".py"
  },
  "kernelspec": {
   "name": "python3",
   "display_name": "Python 3.7.6 64-bit"
  },
  "interpreter": {
   "hash": "a0f064732b4e86df3d643ea44dcd42f5947e2f5670f7ec8e2810e0b9f3341b26"
  }
 },
 "nbformat": 4,
 "nbformat_minor": 2
}