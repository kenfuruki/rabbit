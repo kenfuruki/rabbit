{
 "cells": [
  {
   "cell_type": "markdown",
   "id": "c7421f3e-6775-4515-8933-774e9502d4a4",
   "metadata": {},
   "source": [
    "# SVM実装\n",
    "## 参照元　総務省　https://www.stat.go.jp/teacher/comp-learn-04.html"
   ]
  },
  {
   "cell_type": "markdown",
   "id": "9f3d10d9-6cc5-4ea6-9ef2-36ab7ed29c99",
   "metadata": {},
   "source": [
    "### 1.ライブラリのインポート"
   ]
  },
  {
   "cell_type": "code",
   "execution_count": 10,
   "id": "9f24f31e-64c0-4da7-8fac-c1bba29ea49a",
   "metadata": {},
   "outputs": [],
   "source": [
    "import numpy as np\n",
    "import pandas as pd\n",
    "from sklearn.model_selection import train_test_split\n",
    "from sklearn.preprocessing import StandardScaler\n",
    "from sklearn.decomposition import PCA\n",
    "from sklearn.svm import SVC\n",
    "import matplotlib.pyplot as plt\n",
    "import seaborn as sns\n",
    "from mlxtend.plotting import plot_decision_regions   # anacondaにはない"
   ]
  },
  {
   "cell_type": "markdown",
   "id": "67cf1322-5590-4156-814e-e417d0f4b5cc",
   "metadata": {},
   "source": [
    "### 2. データの読み込みと確認"
   ]
  },
  {
   "cell_type": "code",
   "execution_count": 2,
   "id": "fed04332-eff5-4d80-bd83-94302991f7c5",
   "metadata": {},
   "outputs": [
    {
     "data": {
      "text/html": [
       "<div>\n",
       "<style scoped>\n",
       "    .dataframe tbody tr th:only-of-type {\n",
       "        vertical-align: middle;\n",
       "    }\n",
       "\n",
       "    .dataframe tbody tr th {\n",
       "        vertical-align: top;\n",
       "    }\n",
       "\n",
       "    .dataframe thead th {\n",
       "        text-align: right;\n",
       "    }\n",
       "</style>\n",
       "<table border=\"1\" class=\"dataframe\">\n",
       "  <thead>\n",
       "    <tr style=\"text-align: right;\">\n",
       "      <th></th>\n",
       "      <th>months</th>\n",
       "      <th>falls</th>\n",
       "      <th>sex</th>\n",
       "      <th>age</th>\n",
       "      <th>past_falls</th>\n",
       "      <th>crack</th>\n",
       "      <th>width</th>\n",
       "      <th>height</th>\n",
       "      <th>thick</th>\n",
       "      <th>cover</th>\n",
       "      <th>ring</th>\n",
       "    </tr>\n",
       "    <tr>\n",
       "      <th>ID</th>\n",
       "      <th></th>\n",
       "      <th></th>\n",
       "      <th></th>\n",
       "      <th></th>\n",
       "      <th></th>\n",
       "      <th></th>\n",
       "      <th></th>\n",
       "      <th></th>\n",
       "      <th></th>\n",
       "      <th></th>\n",
       "      <th></th>\n",
       "    </tr>\n",
       "  </thead>\n",
       "  <tbody>\n",
       "    <tr>\n",
       "      <th>1</th>\n",
       "      <td>38</td>\n",
       "      <td>0</td>\n",
       "      <td>1</td>\n",
       "      <td>10</td>\n",
       "      <td>0</td>\n",
       "      <td>0</td>\n",
       "      <td>60</td>\n",
       "      <td>140</td>\n",
       "      <td>7</td>\n",
       "      <td>1</td>\n",
       "      <td>0</td>\n",
       "    </tr>\n",
       "    <tr>\n",
       "      <th>2</th>\n",
       "      <td>23</td>\n",
       "      <td>0</td>\n",
       "      <td>2</td>\n",
       "      <td>10</td>\n",
       "      <td>0</td>\n",
       "      <td>0</td>\n",
       "      <td>60</td>\n",
       "      <td>140</td>\n",
       "      <td>7</td>\n",
       "      <td>1</td>\n",
       "      <td>1</td>\n",
       "    </tr>\n",
       "    <tr>\n",
       "      <th>3</th>\n",
       "      <td>3</td>\n",
       "      <td>2</td>\n",
       "      <td>1</td>\n",
       "      <td>10</td>\n",
       "      <td>1</td>\n",
       "      <td>1</td>\n",
       "      <td>64</td>\n",
       "      <td>131</td>\n",
       "      <td>7</td>\n",
       "      <td>0</td>\n",
       "      <td>0</td>\n",
       "    </tr>\n",
       "    <tr>\n",
       "      <th>4</th>\n",
       "      <td>30</td>\n",
       "      <td>0</td>\n",
       "      <td>1</td>\n",
       "      <td>10</td>\n",
       "      <td>0</td>\n",
       "      <td>1</td>\n",
       "      <td>71</td>\n",
       "      <td>146</td>\n",
       "      <td>7</td>\n",
       "      <td>0</td>\n",
       "      <td>1</td>\n",
       "    </tr>\n",
       "    <tr>\n",
       "      <th>5</th>\n",
       "      <td>15</td>\n",
       "      <td>0</td>\n",
       "      <td>1</td>\n",
       "      <td>10</td>\n",
       "      <td>0</td>\n",
       "      <td>0</td>\n",
       "      <td>78</td>\n",
       "      <td>160</td>\n",
       "      <td>7</td>\n",
       "      <td>0</td>\n",
       "      <td>0</td>\n",
       "    </tr>\n",
       "  </tbody>\n",
       "</table>\n",
       "</div>"
      ],
      "text/plain": [
       "    months  falls  sex  age  past_falls  crack  width  height  thick  cover  \\\n",
       "ID                                                                            \n",
       "1       38      0    1   10           0      0     60     140      7      1   \n",
       "2       23      0    2   10           0      0     60     140      7      1   \n",
       "3        3      2    1   10           1      1     64     131      7      0   \n",
       "4       30      0    1   10           0      1     71     146      7      0   \n",
       "5       15      0    1   10           0      0     78     160      7      0   \n",
       "\n",
       "    ring  \n",
       "ID        \n",
       "1      0  \n",
       "2      1  \n",
       "3      0  \n",
       "4      1  \n",
       "5      0  "
      ]
     },
     "execution_count": 2,
     "metadata": {},
     "output_type": "execute_result"
    }
   ],
   "source": [
    "df = pd.read_csv(\"data/SVM.csv\", index_col=0)\n",
    "df.head()"
   ]
  },
  {
   "cell_type": "code",
   "execution_count": 3,
   "id": "b2f26657-75d1-4482-825d-33f7b7acb904",
   "metadata": {},
   "outputs": [
    {
     "name": "stdout",
     "output_type": "stream",
     "text": [
      "<class 'pandas.core.frame.DataFrame'>\n",
      "Int64Index: 39 entries, 1 to 39\n",
      "Data columns (total 11 columns):\n",
      " #   Column      Non-Null Count  Dtype\n",
      "---  ------      --------------  -----\n",
      " 0   months      39 non-null     int64\n",
      " 1   falls       39 non-null     int64\n",
      " 2   sex         39 non-null     int64\n",
      " 3   age         39 non-null     int64\n",
      " 4   past_falls  39 non-null     int64\n",
      " 5   crack       39 non-null     int64\n",
      " 6   width       39 non-null     int64\n",
      " 7   height      39 non-null     int64\n",
      " 8   thick       39 non-null     int64\n",
      " 9   cover       39 non-null     int64\n",
      " 10  ring        39 non-null     int64\n",
      "dtypes: int64(11)\n",
      "memory usage: 3.7 KB\n"
     ]
    }
   ],
   "source": [
    "df.info()"
   ]
  },
  {
   "cell_type": "code",
   "execution_count": 4,
   "id": "7202c060-cbf4-4fe4-9c78-8f294b3b562a",
   "metadata": {},
   "outputs": [
    {
     "data": {
      "text/html": [
       "<div>\n",
       "<style scoped>\n",
       "    .dataframe tbody tr th:only-of-type {\n",
       "        vertical-align: middle;\n",
       "    }\n",
       "\n",
       "    .dataframe tbody tr th {\n",
       "        vertical-align: top;\n",
       "    }\n",
       "\n",
       "    .dataframe thead th {\n",
       "        text-align: right;\n",
       "    }\n",
       "</style>\n",
       "<table border=\"1\" class=\"dataframe\">\n",
       "  <thead>\n",
       "    <tr style=\"text-align: right;\">\n",
       "      <th></th>\n",
       "      <th>months</th>\n",
       "      <th>falls</th>\n",
       "      <th>sex</th>\n",
       "      <th>age</th>\n",
       "      <th>past_falls</th>\n",
       "      <th>crack</th>\n",
       "      <th>width</th>\n",
       "      <th>height</th>\n",
       "      <th>thick</th>\n",
       "      <th>cover</th>\n",
       "      <th>ring</th>\n",
       "    </tr>\n",
       "  </thead>\n",
       "  <tbody>\n",
       "    <tr>\n",
       "      <th>count</th>\n",
       "      <td>39.000000</td>\n",
       "      <td>39.000000</td>\n",
       "      <td>39.000000</td>\n",
       "      <td>39.000000</td>\n",
       "      <td>39.000000</td>\n",
       "      <td>39.000000</td>\n",
       "      <td>39.000000</td>\n",
       "      <td>39.000000</td>\n",
       "      <td>39.000000</td>\n",
       "      <td>39.000000</td>\n",
       "      <td>39.000000</td>\n",
       "    </tr>\n",
       "    <tr>\n",
       "      <th>mean</th>\n",
       "      <td>20.025641</td>\n",
       "      <td>0.692308</td>\n",
       "      <td>1.538462</td>\n",
       "      <td>10.794872</td>\n",
       "      <td>0.384615</td>\n",
       "      <td>0.307692</td>\n",
       "      <td>71.179487</td>\n",
       "      <td>146.333333</td>\n",
       "      <td>7.512821</td>\n",
       "      <td>0.564103</td>\n",
       "      <td>0.435897</td>\n",
       "    </tr>\n",
       "    <tr>\n",
       "      <th>std</th>\n",
       "      <td>12.020787</td>\n",
       "      <td>1.004040</td>\n",
       "      <td>0.505035</td>\n",
       "      <td>4.963973</td>\n",
       "      <td>0.492864</td>\n",
       "      <td>0.467572</td>\n",
       "      <td>5.009842</td>\n",
       "      <td>8.796929</td>\n",
       "      <td>0.683328</td>\n",
       "      <td>0.502356</td>\n",
       "      <td>0.502356</td>\n",
       "    </tr>\n",
       "    <tr>\n",
       "      <th>min</th>\n",
       "      <td>2.000000</td>\n",
       "      <td>0.000000</td>\n",
       "      <td>1.000000</td>\n",
       "      <td>10.000000</td>\n",
       "      <td>0.000000</td>\n",
       "      <td>0.000000</td>\n",
       "      <td>60.000000</td>\n",
       "      <td>131.000000</td>\n",
       "      <td>7.000000</td>\n",
       "      <td>0.000000</td>\n",
       "      <td>0.000000</td>\n",
       "    </tr>\n",
       "    <tr>\n",
       "      <th>25%</th>\n",
       "      <td>8.500000</td>\n",
       "      <td>0.000000</td>\n",
       "      <td>1.000000</td>\n",
       "      <td>10.000000</td>\n",
       "      <td>0.000000</td>\n",
       "      <td>0.000000</td>\n",
       "      <td>69.000000</td>\n",
       "      <td>142.000000</td>\n",
       "      <td>7.000000</td>\n",
       "      <td>0.000000</td>\n",
       "      <td>0.000000</td>\n",
       "    </tr>\n",
       "    <tr>\n",
       "      <th>50%</th>\n",
       "      <td>19.000000</td>\n",
       "      <td>0.000000</td>\n",
       "      <td>2.000000</td>\n",
       "      <td>10.000000</td>\n",
       "      <td>0.000000</td>\n",
       "      <td>0.000000</td>\n",
       "      <td>71.000000</td>\n",
       "      <td>146.000000</td>\n",
       "      <td>7.000000</td>\n",
       "      <td>1.000000</td>\n",
       "      <td>0.000000</td>\n",
       "    </tr>\n",
       "    <tr>\n",
       "      <th>75%</th>\n",
       "      <td>29.500000</td>\n",
       "      <td>1.000000</td>\n",
       "      <td>2.000000</td>\n",
       "      <td>10.000000</td>\n",
       "      <td>1.000000</td>\n",
       "      <td>1.000000</td>\n",
       "      <td>75.000000</td>\n",
       "      <td>151.000000</td>\n",
       "      <td>8.000000</td>\n",
       "      <td>1.000000</td>\n",
       "      <td>1.000000</td>\n",
       "    </tr>\n",
       "    <tr>\n",
       "      <th>max</th>\n",
       "      <td>38.000000</td>\n",
       "      <td>4.000000</td>\n",
       "      <td>2.000000</td>\n",
       "      <td>41.000000</td>\n",
       "      <td>1.000000</td>\n",
       "      <td>1.000000</td>\n",
       "      <td>78.000000</td>\n",
       "      <td>160.000000</td>\n",
       "      <td>9.000000</td>\n",
       "      <td>1.000000</td>\n",
       "      <td>1.000000</td>\n",
       "    </tr>\n",
       "  </tbody>\n",
       "</table>\n",
       "</div>"
      ],
      "text/plain": [
       "          months      falls        sex        age  past_falls      crack  \\\n",
       "count  39.000000  39.000000  39.000000  39.000000   39.000000  39.000000   \n",
       "mean   20.025641   0.692308   1.538462  10.794872    0.384615   0.307692   \n",
       "std    12.020787   1.004040   0.505035   4.963973    0.492864   0.467572   \n",
       "min     2.000000   0.000000   1.000000  10.000000    0.000000   0.000000   \n",
       "25%     8.500000   0.000000   1.000000  10.000000    0.000000   0.000000   \n",
       "50%    19.000000   0.000000   2.000000  10.000000    0.000000   0.000000   \n",
       "75%    29.500000   1.000000   2.000000  10.000000    1.000000   1.000000   \n",
       "max    38.000000   4.000000   2.000000  41.000000    1.000000   1.000000   \n",
       "\n",
       "           width      height      thick      cover       ring  \n",
       "count  39.000000   39.000000  39.000000  39.000000  39.000000  \n",
       "mean   71.179487  146.333333   7.512821   0.564103   0.435897  \n",
       "std     5.009842    8.796929   0.683328   0.502356   0.502356  \n",
       "min    60.000000  131.000000   7.000000   0.000000   0.000000  \n",
       "25%    69.000000  142.000000   7.000000   0.000000   0.000000  \n",
       "50%    71.000000  146.000000   7.000000   1.000000   0.000000  \n",
       "75%    75.000000  151.000000   8.000000   1.000000   1.000000  \n",
       "max    78.000000  160.000000   9.000000   1.000000   1.000000  "
      ]
     },
     "execution_count": 4,
     "metadata": {},
     "output_type": "execute_result"
    }
   ],
   "source": [
    "df.describe()"
   ]
  },
  {
   "cell_type": "code",
   "execution_count": 5,
   "id": "8af58b42-aa24-433a-a00d-c50b395eea34",
   "metadata": {},
   "outputs": [
    {
     "data": {
      "text/plain": [
       "Index(['months', 'falls', 'sex', 'age', 'past_falls', 'crack', 'width',\n",
       "       'height', 'thick', 'cover', 'ring'],\n",
       "      dtype='object')"
      ]
     },
     "execution_count": 5,
     "metadata": {},
     "output_type": "execute_result"
    }
   ],
   "source": [
    "df.columns"
   ]
  },
  {
   "cell_type": "code",
   "execution_count": 6,
   "id": "437c9a0e-4c95-4759-bd19-25e0ccf758ac",
   "metadata": {},
   "outputs": [],
   "source": [
    "columns_list = [\"months\", \"falls\", \"crack\", \"width\", \"height\", \"thick\", \"cover\"]"
   ]
  },
  {
   "cell_type": "code",
   "execution_count": 7,
   "id": "3f9c873e-e6f5-4bc3-8256-51edb5c10244",
   "metadata": {},
   "outputs": [
    {
     "data": {
      "image/png": "[encoded data removed]",
      "text/plain": [
       "<Figure size 432x288 with 1 Axes>"
      ]
     },
     "metadata": {
      "needs_background": "light"
     },
     "output_type": "display_data"
    },
    {
     "data": {
      "image/png": "[encoded data removed]",
      "text/plain": [
       "<Figure size 432x288 with 1 Axes>"
      ]
     },
     "metadata": {
      "needs_background": "light"
     },
     "output_type": "display_data"
    },
    {
     "data": {
      "image/png": "[encoded data removed]",
      "text/plain": [
       "<Figure size 432x288 with 1 Axes>"
      ]
     },
     "metadata": {
      "needs_background": "light"
     },
     "output_type": "display_data"
    },
    {
     "data": {
      "image/png": "[encoded data removed]",
      "text/plain": [
       "<Figure size 432x288 with 1 Axes>"
      ]
     },
     "metadata": {
      "needs_background": "light"
     },
     "output_type": "display_data"
    },
    {
     "data": {
      "image/png": "[encoded data removed]",
      "text/plain": [
       "<Figure size 432x288 with 1 Axes>"
      ]
     },
     "metadata": {
      "needs_background": "light"
     },
     "output_type": "display_data"
    },
    {
     "data": {
      "image/png": "[encoded data removed]",
      "text/plain": [
       "<Figure size 432x288 with 1 Axes>"
      ]
     },
     "metadata": {
      "needs_background": "light"
     },
     "output_type": "display_data"
    },
    {
     "data": {
      "image/png": "[encoded data removed]",
      "text/plain": [
       "<Figure size 432x288 with 1 Axes>"
      ]
     },
     "metadata": {
      "needs_background": "light"
     },
     "output_type": "display_data"
    }
   ],
   "source": [
    "for column in columns_list:\n",
    "    sns.countplot(x=column, hue=\"past_falls\", data= df)\n",
    "    plt.show()"
   ]
  },
  {
   "cell_type": "code",
   "execution_count": 8,
   "id": "c6ae00e8-9f2f-4742-9049-a0cdc67e6aa4",
   "metadata": {},
   "outputs": [
    {
     "data": {
      "text/plain": [
       "array([[ 38,   0,   0,  60, 140,   7,   1],\n",
       "       [ 23,   0,   0,  60, 140,   7,   1],\n",
       "       [  3,   2,   1,  64, 131,   7,   0],\n",
       "       [ 30,   0,   1,  71, 146,   7,   0],\n",
       "       [ 15,   0,   0,  78, 160,   7,   0],\n",
       "       [ 36,   1,   0,  64, 131,   7,   1],\n",
       "       [  5,   1,   1,  71, 146,   7,   0],\n",
       "       [  5,   0,   1,  78, 160,   7,   1],\n",
       "       [ 36,   1,   0,  67, 138,   7,   1],\n",
       "       [ 35,   1,   0,  77, 158,   8,   1],\n",
       "       [ 32,   0,   0,  71, 144,   8,   1],\n",
       "       [ 38,   0,   0,  71, 144,   8,   1],\n",
       "       [ 12,   2,   0,  73, 150,   7,   1],\n",
       "       [  8,   0,   1,  73, 150,   7,   0],\n",
       "       [  8,   0,   0,  71, 144,   8,   1],\n",
       "       [ 28,   0,   1,  71, 144,   8,   0],\n",
       "       [ 37,   0,   0,  73, 150,   7,   0],\n",
       "       [  2,   1,   0,  73, 150,   7,   0],\n",
       "       [ 36,   1,   0,  75, 151,   9,   1],\n",
       "       [ 25,   1,   0,  75, 151,   9,   1],\n",
       "       [ 28,   0,   1,  71, 144,   8,   0],\n",
       "       [ 19,   1,   0,  71, 144,   8,   1],\n",
       "       [ 38,   0,   0,  75, 151,   9,   0],\n",
       "       [ 29,   2,   0,  75, 151,   9,   0],\n",
       "       [ 27,   1,   0,  71, 144,   8,   1],\n",
       "       [ 17,   0,   1,  71, 144,   8,   0],\n",
       "       [  4,   1,   0,  67, 138,   7,   1],\n",
       "       [ 19,   3,   1,  77, 158,   8,   1],\n",
       "       [ 12,   3,   0,  67, 138,   7,   1],\n",
       "       [  9,   0,   0,  77, 158,   8,   1],\n",
       "       [ 23,   0,   0,  64, 131,   7,   1],\n",
       "       [ 19,   0,   0,  71, 146,   7,   1],\n",
       "       [  3,   0,   0,  78, 160,   7,   1],\n",
       "       [  6,   1,   1,  64, 131,   7,   0],\n",
       "       [ 25,   4,   0,  71, 146,   7,   0],\n",
       "       [  8,   0,   0,  78, 160,   7,   0],\n",
       "       [ 11,   0,   1,  64, 131,   7,   1],\n",
       "       [ 20,   0,   1,  71, 146,   7,   0],\n",
       "       [ 12,   0,   0,  77, 158,   8,   0]])"
      ]
     },
     "execution_count": 8,
     "metadata": {},
     "output_type": "execute_result"
    }
   ],
   "source": [
    "df[columns_list].values"
   ]
  },
  {
   "cell_type": "markdown",
   "id": "c9ef6610-32f5-4124-a102-4165bf390575",
   "metadata": {},
   "source": [
    "### 3. モデル構築"
   ]
  },
  {
   "cell_type": "code",
   "execution_count": 12,
   "id": "3c31b343-c6dc-4f27-9b18-e7c1d10cfa88",
   "metadata": {},
   "outputs": [],
   "source": [
    "X = df[columns_list].values\n",
    "Y = df[\"past_falls\"].values"
   ]
  },
  {
   "cell_type": "code",
   "execution_count": 13,
   "id": "0366ec1e-271f-408e-9102-e5688eab7120",
   "metadata": {},
   "outputs": [],
   "source": [
    "# 学習用と検証用とでデータ分割\n",
    "X_train, X_test, Y_train, Y_test = train_test_split(X,Y, test_size=0.3,random_state=0)\n",
    "\n",
    "# データの標準化\n",
    "sc = StandardScaler()\n",
    "sc.fit(X_train)\n",
    "X_train_std = sc.transform(X_train)\n",
    "X_test_std = sc.transform(X_test)"
   ]
  },
  {
   "cell_type": "code",
   "execution_count": 14,
   "id": "518ddc65-6786-498a-8e65-01d085e80fd8",
   "metadata": {},
   "outputs": [
    {
     "name": "stdout",
     "output_type": "stream",
     "text": [
      "(27, 7) (27, 2)\n"
     ]
    }
   ],
   "source": [
    "# 主成分分析（PCA）を使用して、現状の７次元の特徴量を２つへ次元圧縮する。\n",
    "pca = PCA(n_components=2)\n",
    "X_train_std2 = pca.fit_transform(X_train_std)\n",
    "X_test_std2 = pca.fit_transform(X_test_std)\n",
    "print(X_train_std.shape, X_train_std2.shape)"
   ]
  },
  {
   "cell_type": "code",
   "execution_count": 15,
   "id": "411f4ddc-d0c2-414a-8a83-ee600c87a0ad",
   "metadata": {},
   "outputs": [
    {
     "data": {
      "text/plain": [
       "SVC()"
      ]
     },
     "execution_count": 15,
     "metadata": {},
     "output_type": "execute_result"
    }
   ],
   "source": [
    "# model構築\n",
    "model1 = SVC(kernel=\"linear\")\n",
    "model2 = SVC(kernel=\"rbf\")\n",
    "\n",
    "model1.fit(X_train_std2, Y_train)\n",
    "model2.fit(X_train_std2, Y_train)"
   ]
  },
  {
   "cell_type": "markdown",
   "id": "392acb64-896f-4b86-814b-6018497ab132",
   "metadata": {},
   "source": [
    "### 4. 分類結果の可視化"
   ]
  },
  {
   "cell_type": "code",
   "execution_count": 25,
   "id": "3bf661f4-e9b2-4ce1-9442-b3584b33047e",
   "metadata": {},
   "outputs": [
    {
     "data": {
      "image/png": "[encoded data removed]",
      "text/plain": [
       "<Figure size 432x288 with 1 Axes>"
      ]
     },
     "metadata": {
      "needs_background": "light"
     },
     "output_type": "display_data"
    }
   ],
   "source": [
    "plt.plot(X_train_std2[Y_train == 1, 0], X_train_std2[Y_train == 1, 1], \"ro\")\n",
    "plt.plot(X_train_std2[Y_train == 0, 0], X_train_std2[Y_train == 0, 1], \"bo\")\n",
    "plt.show()"
   ]
  },
  {
   "cell_type": "code",
   "execution_count": 26,
   "id": "12cb5e8e-2cd5-4262-9f30-b7497ae4bbea",
   "metadata": {},
   "outputs": [
    {
     "name": "stderr",
     "output_type": "stream",
     "text": [
      "/home/studio-lab-user/.conda/envs/ken_lgbm/lib/python3.10/site-packages/mlxtend/plotting/decision_regions.py:243: UserWarning: No contour levels were found within the data range.\n",
      "  ax.contour(xx, yy, Z, cset.levels,\n"
     ]
    },
    {
     "data": {
      "image/png": "[encoded data removed]",
      "text/plain": [
       "<Figure size 576x360 with 1 Axes>"
      ]
     },
     "metadata": {
      "needs_background": "light"
     },
     "output_type": "display_data"
    }
   ],
   "source": [
    "# 線形カーネルの結果\n",
    "fig = plt.figure(figsize=(8,5))\n",
    "plot_decision_regions(X_train_std2, Y_train, clf = model1)\n",
    "plt.show()"
   ]
  },
  {
   "cell_type": "code",
   "execution_count": 27,
   "id": "86324dcf-d960-4425-ae40-3bea93544f1d",
   "metadata": {},
   "outputs": [
    {
     "data": {
      "image/png": "[encoded data removed]",
      "text/plain": [
       "<Figure size 576x360 with 1 Axes>"
      ]
     },
     "metadata": {
      "needs_background": "light"
     },
     "output_type": "display_data"
    }
   ],
   "source": [
    "# rbfカーネルの結果\n",
    "fig = plt.figure(figsize=(8,5))\n",
    "plot_decision_regions(X_train_std2, Y_train, clf = model2)\n",
    "plt.show()"
   ]
  },
  {
   "cell_type": "markdown",
   "id": "7589b782-48e0-4735-a856-259006c0eaa5",
   "metadata": {},
   "source": [
    "### 5. モデル評価"
   ]
  },
  {
   "cell_type": "code",
   "execution_count": 34,
   "id": "a8044afc-29a6-4bcf-9ef9-dee029c21f41",
   "metadata": {},
   "outputs": [],
   "source": [
    "from sklearn import metrics\n",
    "from sklearn.metrics import precision_score\n",
    "from sklearn.metrics import recall_score\n",
    "from sklearn.metrics import f1_score"
   ]
  },
  {
   "cell_type": "code",
   "execution_count": 29,
   "id": "3871b3b6-786f-4296-ace0-515581e01b24",
   "metadata": {},
   "outputs": [],
   "source": [
    "#予測\n",
    "pre1 = model1.predict(X_test_std2)\n",
    "pre2 = model2.predict(X_test_std2)"
   ]
  },
  {
   "cell_type": "code",
   "execution_count": 35,
   "id": "1d687240-2808-4c8a-b332-2d5ff796f906",
   "metadata": {},
   "outputs": [
    {
     "name": "stdout",
     "output_type": "stream",
     "text": [
      "ac_score1(linear) = 0.667, ac_score2(rbf) = 0.750\n",
      "precision1(linear) = 0.000, precision2(rbf) = 1.000\n",
      "recall1(linear) = 0.000, recall2(rbf) = 0.250\n",
      "f_m1(linear) = 0.000, f_m2(rbf) = 0.400\n"
     ]
    },
    {
     "name": "stderr",
     "output_type": "stream",
     "text": [
      "/home/studio-lab-user/.conda/envs/ken_lgbm/lib/python3.10/site-packages/sklearn/metrics/_classification.py:1308: UndefinedMetricWarning: Precision is ill-defined and being set to 0.0 due to no predicted samples. Use `zero_division` parameter to control this behavior.\n",
      "  _warn_prf(average, modifier, msg_start, len(result))\n"
     ]
    }
   ],
   "source": [
    "# 正解率\n",
    "ac_score1 = metrics.accuracy_score(Y_test, pre1)\n",
    "ac_score2 = metrics.accuracy_score(Y_test, pre2)\n",
    "print(f\"ac_score1(linear) = {ac_score1:.3f}, ac_score2(rbf) = {ac_score2:.3f}\")\n",
    "\n",
    "# 適合率\n",
    "precision1 = precision_score(Y_test, pre1)\n",
    "precision2 = precision_score(Y_test, pre2)\n",
    "print(f\"precision1(linear) = {precision1:.3f}, precision2(rbf) = {precision2:.3f}\")\n",
    "\n",
    "# 再現率\n",
    "recall1 = recall_score(Y_test, pre1)\n",
    "recall2 = recall_score(Y_test, pre2)\n",
    "print(f\"recall1(linear) = {recall1:.3f}, recall2(rbf) = {recall2:.3f}\")\n",
    "\n",
    "# F値\n",
    "f_m1 = f1_score(Y_test, pre1)\n",
    "f_m2 = f1_score(Y_test, pre2)\n",
    "print(f\"f_m1(linear) = {f_m1:.3f}, f_m2(rbf) = {f_m2:.3f}\")"
   ]
  },
  {
   "cell_type": "code",
   "execution_count": null,
   "id": "eae08015-9ded-4b8d-a3fb-dbf24938b834",
   "metadata": {},
   "outputs": [],
   "source": []
  }
 ],
 "metadata": {
  "kernelspec": {
   "display_name": "ken_lgbm:Python",
   "language": "python",
   "name": "conda-env-ken_lgbm-py"
  },
  "language_info": {
   "codemirror_mode": {
    "name": "ipython",
    "version": 3
   },
   "file_extension": ".py",
   "mimetype": "text/x-python",
   "name": "python",
   "nbconvert_exporter": "python",
   "pygments_lexer": "ipython3",
   "version": "3.10.1"
  }
 },
 "nbformat": 4,
 "nbformat_minor": 5
}
